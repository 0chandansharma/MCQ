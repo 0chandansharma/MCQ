{
 "cells": [
  {
   "cell_type": "code",
   "execution_count": 51,
   "metadata": {},
   "outputs": [],
   "source": [
    "import pickle\n",
    "import numpy as np\n",
    "import pandas as pd\n",
    "import time"
   ]
  },
  {
   "cell_type": "code",
   "execution_count": 55,
   "metadata": {},
   "outputs": [],
   "source": [
    "train_data= pd.read_csv(r'C:\\Users\\chandan sharma\\Desktop\\spoonsht\\science_bot\\science_bot\\snoopshottrain.csv');"
   ]
  },
  {
   "cell_type": "code",
   "execution_count": 56,
   "metadata": {},
   "outputs": [],
   "source": [
    "test_data = pd.read_csv(r'C:\\Users\\chandan sharma\\Desktop\\spoonsht\\science_bot\\science_bot\\test.csv')"
   ]
  },
  {
   "cell_type": "code",
   "execution_count": 57,
   "metadata": {},
   "outputs": [
    {
     "data": {
      "text/html": [
       "<div>\n",
       "<style scoped>\n",
       "    .dataframe tbody tr th:only-of-type {\n",
       "        vertical-align: middle;\n",
       "    }\n",
       "\n",
       "    .dataframe tbody tr th {\n",
       "        vertical-align: top;\n",
       "    }\n",
       "\n",
       "    .dataframe thead th {\n",
       "        text-align: right;\n",
       "    }\n",
       "</style>\n",
       "<table border=\"1\" class=\"dataframe\">\n",
       "  <thead>\n",
       "    <tr style=\"text-align: right;\">\n",
       "      <th></th>\n",
       "      <th>id</th>\n",
       "      <th>answerA</th>\n",
       "      <th>answerB</th>\n",
       "      <th>answerC</th>\n",
       "      <th>answerD</th>\n",
       "      <th>correctAnswer</th>\n",
       "      <th>question</th>\n",
       "    </tr>\n",
       "  </thead>\n",
       "  <tbody>\n",
       "    <tr>\n",
       "      <th>0</th>\n",
       "      <td>415</td>\n",
       "      <td>reflected sunlight</td>\n",
       "      <td>absorbed light from Earth's atmosphere</td>\n",
       "      <td>gases in the Moon's interior</td>\n",
       "      <td>volcanic eruptions on the Moon's surface</td>\n",
       "      <td>A</td>\n",
       "      <td>The Moon is visible to observers on Earth beca...</td>\n",
       "    </tr>\n",
       "  </tbody>\n",
       "</table>\n",
       "</div>"
      ],
      "text/plain": [
       "    id             answerA                                 answerB  \\\n",
       "0  415  reflected sunlight  absorbed light from Earth's atmosphere   \n",
       "\n",
       "                        answerC                                   answerD  \\\n",
       "0  gases in the Moon's interior  volcanic eruptions on the Moon's surface   \n",
       "\n",
       "  correctAnswer                                           question  \n",
       "0             A  The Moon is visible to observers on Earth beca...  "
      ]
     },
     "execution_count": 57,
     "metadata": {},
     "output_type": "execute_result"
    }
   ],
   "source": [
    "train_data[:1]\n"
   ]
  },
  {
   "cell_type": "code",
   "execution_count": 58,
   "metadata": {},
   "outputs": [],
   "source": [
    "question,choices,answer,ids=train_data['question'],train_data[['answerA','answerB','answerC','answerD']],train_data['correctAnswer'],train_data['id'],"
   ]
  },
  {
   "cell_type": "code",
   "execution_count": 59,
   "metadata": {},
   "outputs": [
    {
     "name": "stdout",
     "output_type": "stream",
     "text": [
      "\n",
      "QUESTION /4610: 0       The Moon is visible to observers on Earth beca...\n",
      "1       Which order of succession of natural communiti...\n",
      "2       If the solar system were used as a model of an...\n",
      "3       Which of the following statements best describ...\n",
      "4       Which unit of measurement can be used to descr...\n",
      "5       When buried sediments are subjected to pressur...\n",
      "6                         Which is an example of melting?\n",
      "7       Which of the following BEST describes electron...\n",
      "8       A meteorologist records data for a city on a c...\n",
      "9       Which of these statements is most accurate abo...\n",
      "10      Base your answer on the information below and ...\n",
      "11         Which organ removes cell waste from the blood?\n",
      "12      Endothermic reactions are reactions that requi...\n",
      "13      Heat is applied to a beaker of water, raising ...\n",
      "14      What happens to a ray of white light when it p...\n",
      "15      Which renewable resource is used with photovol...\n",
      "16      Which kind of rock is produced by deposition a...\n",
      "17      Which two processes are common to all living t...\n",
      "18      Which of the following sets contains only obje...\n",
      "19      Which two systems of the body are interacting ...\n",
      "20                     A galaxy is made up of __________.\n",
      "21      Genes are located on chromosomes which are com...\n",
      "22      Which instrument would be used when studying a...\n",
      "23      In which example could a thermometer be used t...\n",
      "24      Which two subatomic particles have approximate...\n",
      "25      Some meteorologists use visual aids such as di...\n",
      "26      A lizard species mostly eats fruit from one pa...\n",
      "27      Perfume sprayed from a bottle spreads more eas...\n",
      "28      What do birds, bats and butterflies have in co...\n",
      "29      Which statement is the best description of the...\n",
      "                              ...                        \n",
      "4580    Which best describes the characteristics of a ...\n",
      "4581    Which human body system forms a barrier betwee...\n",
      "4582    Which of the following statements about galaxi...\n",
      "4583    An organism eats grass and is preyed upon by a...\n",
      "4584    Some forests develop after farmland is abandon...\n",
      "4585    Which process causes the fastest changes to th...\n",
      "4586    Which model is used by scientists to determine...\n",
      "4587    A scientist in South America has been observin...\n",
      "4588    Which best illustrates the sequence of steps t...\n",
      "4589    Which of the following can be caused by weathe...\n",
      "4590    To make an electromagnet, a conductor should b...\n",
      "4591    The change of position relative to a reference...\n",
      "4592    Which statement best compares single-celled an...\n",
      "4593    Which of the following would be most useful fo...\n",
      "4594         Which of the following is a SOURCE of light?\n",
      "4595    Freda always hangs her wet swimsuit outdoors a...\n",
      "4596    A recent scientific study funded by a medical ...\n",
      "4597    The hormone insulin is secreted by the pancrea...\n",
      "4598    Light travels fastest through which of the fol...\n",
      "4599    What advantage do sea stars gain from having r...\n",
      "4600    A female dog is having puppies. She has black ...\n",
      "4601    Which of the following statements best explain...\n",
      "4602    The students in an engineering class built a r...\n",
      "4603      Which statement best describes a liquid sample?\n",
      "4604    The continuous changing of Earth's surface is ...\n",
      "4605    Why is natural selection said to act on the ph...\n",
      "4606    After the formation of the Sun but before the ...\n",
      "4607    Which property of proteins best allows them to...\n",
      "4608    Antibiotics, commonly used to treat infection,...\n",
      "4609    Steel is used for cables in suspension bridges...\n",
      "Name: question, Length: 4610, dtype: object\n"
     ]
    }
   ],
   "source": [
    "print ('\\nQUESTION /%s: %s'% ( len(train_data), question))"
   ]
  },
  {
   "cell_type": "raw",
   "metadata": {},
   "source": [
    "choice_scores = answer_scores(question, choices)"
   ]
  },
  {
   "cell_type": "code",
   "execution_count": 65,
   "metadata": {},
   "outputs": [],
   "source": [
    "import unicodedata\n",
    "import unicodedata"
   ]
  },
  {
   "cell_type": "code",
   "execution_count": 66,
   "metadata": {},
   "outputs": [],
   "source": [
    "def to_unicode(string, ):\n",
    "    \"\"\"\n",
    "    Force bytes string to unicode\n",
    "    - string: any string\n",
    "    \"\"\"\n",
    "    if not isinstance(string, unicode):\n",
    "        return string.decode('utf-8')\n",
    "    return string"
   ]
  },
  {
   "cell_type": "code",
   "execution_count": 68,
   "metadata": {},
   "outputs": [],
   "source": [
    "#question = to_unicode(question)"
   ]
  },
  {
   "cell_type": "code",
   "execution_count": 71,
   "metadata": {},
   "outputs": [],
   "source": [
    "def is_negative_question(question, lang='en'):\n",
    "    \"\"\"\n",
    "    Function to check whether the question is negative question.\n",
    "    example : 'Among ..., which ... is NOT ... ?'\n",
    "    - question: target question\n",
    "    - lang: language of the question\n",
    "    \"\"\"\n",
    "    if lang != 'en':\n",
    "        raise ValueError(\"other languages that french aren't implemented\")\n",
    "\n",
    "    # Define negative patterns\n",
    "    negative_patterns = [\" n'\", \" ne \"]\n",
    "\n",
    "    # Detect negative patterns\n",
    "    for negative_pattern in negative_patterns:\n",
    "        if negative_pattern in question:\n",
    "            return True\n",
    "    return False"
   ]
  },
  {
   "cell_type": "code",
   "execution_count": 72,
   "metadata": {},
   "outputs": [],
   "source": [
    "is_negative = is_negative_question(question)"
   ]
  },
  {
   "cell_type": "code",
   "execution_count": 73,
   "metadata": {},
   "outputs": [
    {
     "data": {
      "text/plain": [
       "False"
      ]
     },
     "execution_count": 73,
     "metadata": {},
     "output_type": "execute_result"
    }
   ],
   "source": [
    "is_negative"
   ]
  },
  {
   "cell_type": "code",
   "execution_count": 76,
   "metadata": {},
   "outputs": [],
   "source": [
    "from nltk.corpus import stopwords\n",
    "from nltk.tokenize import word_tokenize"
   ]
  },
  {
   "cell_type": "code",
   "execution_count": 87,
   "metadata": {},
   "outputs": [
    {
     "data": {
      "text/plain": [
       "{'a',\n",
       " 'about',\n",
       " 'above',\n",
       " 'after',\n",
       " 'again',\n",
       " 'against',\n",
       " 'ain',\n",
       " 'all',\n",
       " 'am',\n",
       " 'an',\n",
       " 'and',\n",
       " 'any',\n",
       " 'are',\n",
       " 'aren',\n",
       " \"aren't\",\n",
       " 'as',\n",
       " 'at',\n",
       " 'be',\n",
       " 'because',\n",
       " 'been',\n",
       " 'before',\n",
       " 'being',\n",
       " 'below',\n",
       " 'between',\n",
       " 'both',\n",
       " 'but',\n",
       " 'by',\n",
       " 'can',\n",
       " 'couldn',\n",
       " \"couldn't\",\n",
       " 'd',\n",
       " 'did',\n",
       " 'didn',\n",
       " \"didn't\",\n",
       " 'do',\n",
       " 'does',\n",
       " 'doesn',\n",
       " \"doesn't\",\n",
       " 'doing',\n",
       " 'don',\n",
       " \"don't\",\n",
       " 'down',\n",
       " 'during',\n",
       " 'each',\n",
       " 'few',\n",
       " 'for',\n",
       " 'from',\n",
       " 'further',\n",
       " 'had',\n",
       " 'hadn',\n",
       " \"hadn't\",\n",
       " 'has',\n",
       " 'hasn',\n",
       " \"hasn't\",\n",
       " 'have',\n",
       " 'haven',\n",
       " \"haven't\",\n",
       " 'having',\n",
       " 'he',\n",
       " 'her',\n",
       " 'here',\n",
       " 'hers',\n",
       " 'herself',\n",
       " 'him',\n",
       " 'himself',\n",
       " 'his',\n",
       " 'how',\n",
       " 'i',\n",
       " 'if',\n",
       " 'in',\n",
       " 'into',\n",
       " 'is',\n",
       " 'isn',\n",
       " \"isn't\",\n",
       " 'it',\n",
       " \"it's\",\n",
       " 'its',\n",
       " 'itself',\n",
       " 'just',\n",
       " 'll',\n",
       " 'm',\n",
       " 'ma',\n",
       " 'me',\n",
       " 'mightn',\n",
       " \"mightn't\",\n",
       " 'more',\n",
       " 'most',\n",
       " 'mustn',\n",
       " \"mustn't\",\n",
       " 'my',\n",
       " 'myself',\n",
       " 'needn',\n",
       " \"needn't\",\n",
       " 'no',\n",
       " 'nor',\n",
       " 'not',\n",
       " 'now',\n",
       " 'o',\n",
       " 'of',\n",
       " 'off',\n",
       " 'on',\n",
       " 'once',\n",
       " 'only',\n",
       " 'or',\n",
       " 'other',\n",
       " 'our',\n",
       " 'ours',\n",
       " 'ourselves',\n",
       " 'out',\n",
       " 'over',\n",
       " 'own',\n",
       " 're',\n",
       " 's',\n",
       " 'same',\n",
       " 'shan',\n",
       " \"shan't\",\n",
       " 'she',\n",
       " \"she's\",\n",
       " 'should',\n",
       " \"should've\",\n",
       " 'shouldn',\n",
       " \"shouldn't\",\n",
       " 'so',\n",
       " 'some',\n",
       " 'such',\n",
       " 't',\n",
       " 'than',\n",
       " 'that',\n",
       " \"that'll\",\n",
       " 'the',\n",
       " 'their',\n",
       " 'theirs',\n",
       " 'them',\n",
       " 'themselves',\n",
       " 'then',\n",
       " 'there',\n",
       " 'these',\n",
       " 'they',\n",
       " 'this',\n",
       " 'those',\n",
       " 'through',\n",
       " 'to',\n",
       " 'too',\n",
       " 'under',\n",
       " 'until',\n",
       " 'up',\n",
       " 've',\n",
       " 'very',\n",
       " 'was',\n",
       " 'wasn',\n",
       " \"wasn't\",\n",
       " 'we',\n",
       " 'were',\n",
       " 'weren',\n",
       " \"weren't\",\n",
       " 'what',\n",
       " 'when',\n",
       " 'where',\n",
       " 'which',\n",
       " 'while',\n",
       " 'who',\n",
       " 'whom',\n",
       " 'why',\n",
       " 'will',\n",
       " 'with',\n",
       " 'won',\n",
       " \"won't\",\n",
       " 'wouldn',\n",
       " \"wouldn't\",\n",
       " 'y',\n",
       " 'you',\n",
       " \"you'd\",\n",
       " \"you'll\",\n",
       " \"you're\",\n",
       " \"you've\",\n",
       " 'your',\n",
       " 'yours',\n",
       " 'yourself',\n",
       " 'yourselves'}"
      ]
     },
     "execution_count": 87,
     "metadata": {},
     "output_type": "execute_result"
    }
   ],
   "source": [
    "import nltk\n",
    "from nltk.corpus import stopwords\n",
    "set(stopwords.words('english'))"
   ]
  },
  {
   "cell_type": "code",
   "execution_count": 92,
   "metadata": {},
   "outputs": [
    {
     "data": {
      "text/html": [
       "<div>\n",
       "<style scoped>\n",
       "    .dataframe tbody tr th:only-of-type {\n",
       "        vertical-align: middle;\n",
       "    }\n",
       "\n",
       "    .dataframe tbody tr th {\n",
       "        vertical-align: top;\n",
       "    }\n",
       "\n",
       "    .dataframe thead th {\n",
       "        text-align: right;\n",
       "    }\n",
       "</style>\n",
       "<table border=\"1\" class=\"dataframe\">\n",
       "  <thead>\n",
       "    <tr style=\"text-align: right;\">\n",
       "      <th></th>\n",
       "      <th>question</th>\n",
       "      <th>char_count</th>\n",
       "    </tr>\n",
       "  </thead>\n",
       "  <tbody>\n",
       "    <tr>\n",
       "      <th>0</th>\n",
       "      <td>The Moon is visible to observers on Earth beca...</td>\n",
       "      <td>52</td>\n",
       "    </tr>\n",
       "    <tr>\n",
       "      <th>1</th>\n",
       "      <td>Which order of succession of natural communiti...</td>\n",
       "      <td>91</td>\n",
       "    </tr>\n",
       "    <tr>\n",
       "      <th>2</th>\n",
       "      <td>If the solar system were used as a model of an...</td>\n",
       "      <td>94</td>\n",
       "    </tr>\n",
       "    <tr>\n",
       "      <th>3</th>\n",
       "      <td>Which of the following statements best describ...</td>\n",
       "      <td>95</td>\n",
       "    </tr>\n",
       "    <tr>\n",
       "      <th>4</th>\n",
       "      <td>Which unit of measurement can be used to descr...</td>\n",
       "      <td>71</td>\n",
       "    </tr>\n",
       "  </tbody>\n",
       "</table>\n",
       "</div>"
      ],
      "text/plain": [
       "                                            question  char_count\n",
       "0  The Moon is visible to observers on Earth beca...          52\n",
       "1  Which order of succession of natural communiti...          91\n",
       "2  If the solar system were used as a model of an...          94\n",
       "3  Which of the following statements best describ...          95\n",
       "4  Which unit of measurement can be used to descr...          71"
      ]
     },
     "execution_count": 92,
     "metadata": {},
     "output_type": "execute_result"
    }
   ],
   "source": [
    "train_data['char_count'] = train_data['question'].str.len() ## this also includes spaces\n",
    "train_data[['question','char_count']].head()"
   ]
  },
  {
   "cell_type": "code",
   "execution_count": 93,
   "metadata": {},
   "outputs": [
    {
     "data": {
      "text/html": [
       "<div>\n",
       "<style scoped>\n",
       "    .dataframe tbody tr th:only-of-type {\n",
       "        vertical-align: middle;\n",
       "    }\n",
       "\n",
       "    .dataframe tbody tr th {\n",
       "        vertical-align: top;\n",
       "    }\n",
       "\n",
       "    .dataframe thead th {\n",
       "        text-align: right;\n",
       "    }\n",
       "</style>\n",
       "<table border=\"1\" class=\"dataframe\">\n",
       "  <thead>\n",
       "    <tr style=\"text-align: right;\">\n",
       "      <th></th>\n",
       "      <th>question</th>\n",
       "      <th>avg_word</th>\n",
       "    </tr>\n",
       "  </thead>\n",
       "  <tbody>\n",
       "    <tr>\n",
       "      <th>0</th>\n",
       "      <td>The Moon is visible to observers on Earth beca...</td>\n",
       "      <td>4.300000</td>\n",
       "    </tr>\n",
       "    <tr>\n",
       "      <th>1</th>\n",
       "      <td>Which order of succession of natural communiti...</td>\n",
       "      <td>5.133333</td>\n",
       "    </tr>\n",
       "    <tr>\n",
       "      <th>2</th>\n",
       "      <td>If the solar system were used as a model of an...</td>\n",
       "      <td>4.000000</td>\n",
       "    </tr>\n",
       "    <tr>\n",
       "      <th>3</th>\n",
       "      <td>Which of the following statements best describ...</td>\n",
       "      <td>5.000000</td>\n",
       "    </tr>\n",
       "    <tr>\n",
       "      <th>4</th>\n",
       "      <td>Which unit of measurement can be used to descr...</td>\n",
       "      <td>4.142857</td>\n",
       "    </tr>\n",
       "  </tbody>\n",
       "</table>\n",
       "</div>"
      ],
      "text/plain": [
       "                                            question  avg_word\n",
       "0  The Moon is visible to observers on Earth beca...  4.300000\n",
       "1  Which order of succession of natural communiti...  5.133333\n",
       "2  If the solar system were used as a model of an...  4.000000\n",
       "3  Which of the following statements best describ...  5.000000\n",
       "4  Which unit of measurement can be used to descr...  4.142857"
      ]
     },
     "execution_count": 93,
     "metadata": {},
     "output_type": "execute_result"
    }
   ],
   "source": [
    "def avg_word(sentence):\n",
    "  words = sentence.split()\n",
    "  return (sum(len(word) for word in words)/len(words))\n",
    "\n",
    "train_data['avg_word'] = train_data['question'].apply(lambda x: avg_word(x))\n",
    "train_data[['question','avg_word']].head()"
   ]
  },
  {
   "cell_type": "code",
   "execution_count": 94,
   "metadata": {},
   "outputs": [
    {
     "data": {
      "text/html": [
       "<div>\n",
       "<style scoped>\n",
       "    .dataframe tbody tr th:only-of-type {\n",
       "        vertical-align: middle;\n",
       "    }\n",
       "\n",
       "    .dataframe tbody tr th {\n",
       "        vertical-align: top;\n",
       "    }\n",
       "\n",
       "    .dataframe thead th {\n",
       "        text-align: right;\n",
       "    }\n",
       "</style>\n",
       "<table border=\"1\" class=\"dataframe\">\n",
       "  <thead>\n",
       "    <tr style=\"text-align: right;\">\n",
       "      <th></th>\n",
       "      <th>question</th>\n",
       "      <th>stopwords</th>\n",
       "    </tr>\n",
       "  </thead>\n",
       "  <tbody>\n",
       "    <tr>\n",
       "      <th>0</th>\n",
       "      <td>The Moon is visible to observers on Earth beca...</td>\n",
       "      <td>5</td>\n",
       "    </tr>\n",
       "    <tr>\n",
       "      <th>1</th>\n",
       "      <td>Which order of succession of natural communiti...</td>\n",
       "      <td>4</td>\n",
       "    </tr>\n",
       "    <tr>\n",
       "      <th>2</th>\n",
       "      <td>If the solar system were used as a model of an...</td>\n",
       "      <td>9</td>\n",
       "    </tr>\n",
       "    <tr>\n",
       "      <th>3</th>\n",
       "      <td>Which of the following statements best describ...</td>\n",
       "      <td>7</td>\n",
       "    </tr>\n",
       "    <tr>\n",
       "      <th>4</th>\n",
       "      <td>Which unit of measurement can be used to descr...</td>\n",
       "      <td>7</td>\n",
       "    </tr>\n",
       "  </tbody>\n",
       "</table>\n",
       "</div>"
      ],
      "text/plain": [
       "                                            question  stopwords\n",
       "0  The Moon is visible to observers on Earth beca...          5\n",
       "1  Which order of succession of natural communiti...          4\n",
       "2  If the solar system were used as a model of an...          9\n",
       "3  Which of the following statements best describ...          7\n",
       "4  Which unit of measurement can be used to descr...          7"
      ]
     },
     "execution_count": 94,
     "metadata": {},
     "output_type": "execute_result"
    }
   ],
   "source": [
    "from nltk.corpus import stopwords\n",
    "stop = stopwords.words('english')\n",
    "\n",
    "train_data['stopwords'] = train_data['question'].apply(lambda x: len([x for x in x.split() if x in stop]))\n",
    "train_data[['question','stopwords']].head()"
   ]
  },
  {
   "cell_type": "code",
   "execution_count": 97,
   "metadata": {},
   "outputs": [
    {
     "data": {
      "text/html": [
       "<div>\n",
       "<style scoped>\n",
       "    .dataframe tbody tr th:only-of-type {\n",
       "        vertical-align: middle;\n",
       "    }\n",
       "\n",
       "    .dataframe tbody tr th {\n",
       "        vertical-align: top;\n",
       "    }\n",
       "\n",
       "    .dataframe thead th {\n",
       "        text-align: right;\n",
       "    }\n",
       "</style>\n",
       "<table border=\"1\" class=\"dataframe\">\n",
       "  <thead>\n",
       "    <tr style=\"text-align: right;\">\n",
       "      <th></th>\n",
       "      <th>question</th>\n",
       "      <th>hastags</th>\n",
       "    </tr>\n",
       "  </thead>\n",
       "  <tbody>\n",
       "    <tr>\n",
       "      <th>0</th>\n",
       "      <td>The Moon is visible to observers on Earth beca...</td>\n",
       "      <td>0</td>\n",
       "    </tr>\n",
       "    <tr>\n",
       "      <th>1</th>\n",
       "      <td>Which order of succession of natural communiti...</td>\n",
       "      <td>0</td>\n",
       "    </tr>\n",
       "    <tr>\n",
       "      <th>2</th>\n",
       "      <td>If the solar system were used as a model of an...</td>\n",
       "      <td>0</td>\n",
       "    </tr>\n",
       "    <tr>\n",
       "      <th>3</th>\n",
       "      <td>Which of the following statements best describ...</td>\n",
       "      <td>0</td>\n",
       "    </tr>\n",
       "    <tr>\n",
       "      <th>4</th>\n",
       "      <td>Which unit of measurement can be used to descr...</td>\n",
       "      <td>0</td>\n",
       "    </tr>\n",
       "  </tbody>\n",
       "</table>\n",
       "</div>"
      ],
      "text/plain": [
       "                                            question  hastags\n",
       "0  The Moon is visible to observers on Earth beca...        0\n",
       "1  Which order of succession of natural communiti...        0\n",
       "2  If the solar system were used as a model of an...        0\n",
       "3  Which of the following statements best describ...        0\n",
       "4  Which unit of measurement can be used to descr...        0"
      ]
     },
     "execution_count": 97,
     "metadata": {},
     "output_type": "execute_result"
    }
   ],
   "source": [
    "train_data['hastags'] = train_data['question'].apply(lambda x: len([x for x in x.split() if x.startswith('#')]))\n",
    "train_data[['question','hastags']].head()"
   ]
  },
  {
   "cell_type": "code",
   "execution_count": 98,
   "metadata": {},
   "outputs": [
    {
     "data": {
      "text/html": [
       "<div>\n",
       "<style scoped>\n",
       "    .dataframe tbody tr th:only-of-type {\n",
       "        vertical-align: middle;\n",
       "    }\n",
       "\n",
       "    .dataframe tbody tr th {\n",
       "        vertical-align: top;\n",
       "    }\n",
       "\n",
       "    .dataframe thead th {\n",
       "        text-align: right;\n",
       "    }\n",
       "</style>\n",
       "<table border=\"1\" class=\"dataframe\">\n",
       "  <thead>\n",
       "    <tr style=\"text-align: right;\">\n",
       "      <th></th>\n",
       "      <th>question</th>\n",
       "      <th>numerics</th>\n",
       "    </tr>\n",
       "  </thead>\n",
       "  <tbody>\n",
       "    <tr>\n",
       "      <th>0</th>\n",
       "      <td>The Moon is visible to observers on Earth beca...</td>\n",
       "      <td>0</td>\n",
       "    </tr>\n",
       "    <tr>\n",
       "      <th>1</th>\n",
       "      <td>Which order of succession of natural communiti...</td>\n",
       "      <td>0</td>\n",
       "    </tr>\n",
       "    <tr>\n",
       "      <th>2</th>\n",
       "      <td>If the solar system were used as a model of an...</td>\n",
       "      <td>0</td>\n",
       "    </tr>\n",
       "    <tr>\n",
       "      <th>3</th>\n",
       "      <td>Which of the following statements best describ...</td>\n",
       "      <td>0</td>\n",
       "    </tr>\n",
       "    <tr>\n",
       "      <th>4</th>\n",
       "      <td>Which unit of measurement can be used to descr...</td>\n",
       "      <td>0</td>\n",
       "    </tr>\n",
       "  </tbody>\n",
       "</table>\n",
       "</div>"
      ],
      "text/plain": [
       "                                            question  numerics\n",
       "0  The Moon is visible to observers on Earth beca...         0\n",
       "1  Which order of succession of natural communiti...         0\n",
       "2  If the solar system were used as a model of an...         0\n",
       "3  Which of the following statements best describ...         0\n",
       "4  Which unit of measurement can be used to descr...         0"
      ]
     },
     "execution_count": 98,
     "metadata": {},
     "output_type": "execute_result"
    }
   ],
   "source": [
    "train_data['numerics'] = train_data['question'].apply(lambda x: len([x for x in x.split() if x.isdigit()]))\n",
    "train_data[['question','numerics']].head()"
   ]
  },
  {
   "cell_type": "code",
   "execution_count": 99,
   "metadata": {},
   "outputs": [
    {
     "data": {
      "text/plain": [
       "0    the moon is visible to observers on earth beca...\n",
       "1    which order of succession of natural communiti...\n",
       "2    if the solar system were used as a model of an...\n",
       "3    which of the following statements best describ...\n",
       "4    which unit of measurement can be used to descr...\n",
       "Name: question, dtype: object"
      ]
     },
     "execution_count": 99,
     "metadata": {},
     "output_type": "execute_result"
    }
   ],
   "source": [
    "#transform in to lowecase\n",
    "train_data['question'] = train_data['question'].apply(lambda x: \" \".join(x.lower() for x in x.split()))\n",
    "train_data['question'].head()"
   ]
  },
  {
   "cell_type": "code",
   "execution_count": 101,
   "metadata": {},
   "outputs": [
    {
     "data": {
      "text/plain": [
       "0    the moon is visible to observers on earth beca...\n",
       "1    which order of succession of natural communiti...\n",
       "2    if the solar system were used as a model of an...\n",
       "3    which of the following statements best describ...\n",
       "4    which unit of measurement can be used to descr...\n",
       "Name: question, dtype: object"
      ]
     },
     "execution_count": 101,
     "metadata": {},
     "output_type": "execute_result"
    }
   ],
   "source": [
    "#remove puntuations\n",
    "train_data['question'] = train_data['question'].str.replace('[^\\w\\s]','')\n",
    "train_data['question'].head()"
   ]
  },
  {
   "cell_type": "code",
   "execution_count": 104,
   "metadata": {},
   "outputs": [
    {
     "data": {
      "text/plain": [
       "0                         moon visible observers earth\n",
       "1    order succession natural communities would lik...\n",
       "2    solar system used model atom would sun likely ...\n",
       "3    following statements best describes role gravi...\n",
       "4           unit measurement used describe length desk\n",
       "Name: question, dtype: object"
      ]
     },
     "execution_count": 104,
     "metadata": {},
     "output_type": "execute_result"
    }
   ],
   "source": [
    "#remove stopwords\n",
    "from nltk.corpus import stopwords\n",
    "stop = stopwords.words('english')\n",
    "train_data['question'] = train_data['question'].apply(lambda x: \" \".join(x for x in x.split() if x not in stop))\n",
    "train_data['question'].head()"
   ]
  },
  {
   "cell_type": "code",
   "execution_count": 105,
   "metadata": {},
   "outputs": [],
   "source": [
    "#common word removal\n",
    "freq = pd.Series(' '.join(train_data['question']).split()).value_counts()[:10]"
   ]
  },
  {
   "cell_type": "code",
   "execution_count": null,
   "metadata": {},
   "outputs": [],
   "source": [
    "freq"
   ]
  },
  {
   "cell_type": "code",
   "execution_count": 118,
   "metadata": {},
   "outputs": [
    {
     "name": "stdout",
     "output_type": "stream",
     "text": [
      "['order', 'succession', 'natural', 'communities', 'occur', 'new', 'york', 'state']\n"
     ]
    }
   ],
   "source": [
    "print(word_tokenize(train_data['question'][1]))"
   ]
  },
  {
   "cell_type": "code",
   "execution_count": 119,
   "metadata": {},
   "outputs": [
    {
     "data": {
      "text/plain": [
       "0                                  moon visible observers\n",
       "1       order succession natural communities occur new...\n",
       "2              solar system used model atom sun represent\n",
       "3                 statements role gravity formation stars\n",
       "4              unit measurement used describe length desk\n",
       "5       buried sediments subjected pressure mineral gr...\n",
       "6                                         example melting\n",
       "7                                    electrons found atom\n",
       "8       meteorologist records data city certain date d...\n",
       "9                                 statements accurate sun\n",
       "10      base answer information knowledge science base...\n",
       "11                         organ removes cell waste blood\n",
       "12      endothermic reactions reactions require start ...\n",
       "13      heat applied beaker raising temperature degree...\n",
       "14                   happens ray white light passes prism\n",
       "15      renewable resource used photovoltaic cells pro...\n",
       "16              kind rock produced deposition cementation\n",
       "17                         processes common living things\n",
       "18      sets contains objects shine result reflected l...\n",
       "19          systems body interacting runner sprains ankle\n",
       "20                                 galaxy made __________\n",
       "21                     genes located chromosomes composed\n",
       "22        instrument used studying unit amphibian anatomy\n",
       "23      example could thermometer used show heat trans...\n",
       "24                 subatomic particles approximately mass\n",
       "25      meteorologists use visual aids diagrams maps c...\n",
       "26      lizard species mostly eats fruit one particula...\n",
       "27      perfume sprayed bottle spreads easily warm roo...\n",
       "28                          birds bats butterflies common\n",
       "29                 statement description milky way galaxy\n",
       "                              ...                        \n",
       "4580                          characteristics river basin\n",
       "4581    human body system forms barrier internal body ...\n",
       "4582                            statements galaxies false\n",
       "4583    organism eats grass preyed upon carnivore cate...\n",
       "4584    forests develop farmland abandoned grasses may...\n",
       "4585               process causes fastest changes surface\n",
       "4586    model used scientists determine properties ele...\n",
       "4587    scientist south america observing behavior par...\n",
       "4588    illustrates sequence steps followed solving te...\n",
       "4589                                    caused weathering\n",
       "4590           make electromagnet conductor coiled around\n",
       "4591    change position relative reference point objec...\n",
       "4592    statement compares singlecelled multicelled or...\n",
       "4593               useful calculating density rock sample\n",
       "4594                                         source light\n",
       "4595    freda always hangs wet swimsuit outdoors getti...\n",
       "4596    recent scientific study funded medical corpora...\n",
       "4597    hormone insulin secreted pancreas activity tri...\n",
       "4598                                light travels fastest\n",
       "4599             advantage sea stars gain radial symmetry\n",
       "4600    female dog puppies black fur brown eyes curly ...\n",
       "4601    statements explains tilt axis causes summer wa...\n",
       "4602    students engineering class built robot stacks ...\n",
       "4603                              statement liquid sample\n",
       "4604    continuous changing earths surface evidence su...\n",
       "4605    natural selection said act phenotype organism ...\n",
       "4606    formation sun formation planets property solar...\n",
       "4607    property proteins allows perform enormously di...\n",
       "4608    antibiotics commonly used treat infection work...\n",
       "4609        steel used cables suspension bridges capacity\n",
       "Name: question, Length: 4610, dtype: object"
      ]
     },
     "execution_count": 119,
     "metadata": {},
     "output_type": "execute_result"
    }
   ],
   "source": [
    "train_data['question']"
   ]
  },
  {
   "cell_type": "code",
   "execution_count": 145,
   "metadata": {},
   "outputs": [],
   "source": []
  },
  {
   "cell_type": "code",
   "execution_count": 148,
   "metadata": {},
   "outputs": [],
   "source": []
  },
  {
   "cell_type": "code",
   "execution_count": 149,
   "metadata": {},
   "outputs": [],
   "source": []
  },
  {
   "cell_type": "code",
   "execution_count": 150,
   "metadata": {},
   "outputs": [],
   "source": []
  },
  {
   "cell_type": "code",
   "execution_count": null,
   "metadata": {},
   "outputs": [],
   "source": []
  },
  {
   "cell_type": "code",
   "execution_count": null,
   "metadata": {},
   "outputs": [],
   "source": []
  },
  {
   "cell_type": "code",
   "execution_count": null,
   "metadata": {},
   "outputs": [],
   "source": []
  },
  {
   "cell_type": "code",
   "execution_count": 170,
   "metadata": {},
   "outputs": [],
   "source": [
    "\n",
    "                "
   ]
  },
  {
   "cell_type": "code",
   "execution_count": null,
   "metadata": {},
   "outputs": [],
   "source": []
  },
  {
   "cell_type": "code",
   "execution_count": null,
   "metadata": {},
   "outputs": [],
   "source": []
  },
  {
   "cell_type": "code",
   "execution_count": null,
   "metadata": {},
   "outputs": [],
   "source": []
  },
  {
   "cell_type": "code",
   "execution_count": null,
   "metadata": {},
   "outputs": [],
   "source": []
  },
  {
   "cell_type": "code",
   "execution_count": null,
   "metadata": {},
   "outputs": [],
   "source": []
  },
  {
   "cell_type": "code",
   "execution_count": null,
   "metadata": {},
   "outputs": [],
   "source": []
  },
  {
   "cell_type": "code",
   "execution_count": null,
   "metadata": {},
   "outputs": [],
   "source": []
  },
  {
   "cell_type": "code",
   "execution_count": null,
   "metadata": {},
   "outputs": [],
   "source": []
  }
 ],
 "metadata": {
  "kernelspec": {
   "display_name": "Python 3",
   "language": "python",
   "name": "python3"
  },
  "language_info": {
   "codemirror_mode": {
    "name": "ipython",
    "version": 3
   },
   "file_extension": ".py",
   "mimetype": "text/x-python",
   "name": "python",
   "nbconvert_exporter": "python",
   "pygments_lexer": "ipython3",
   "version": "3.7.3"
  }
 },
 "nbformat": 4,
 "nbformat_minor": 2
}
